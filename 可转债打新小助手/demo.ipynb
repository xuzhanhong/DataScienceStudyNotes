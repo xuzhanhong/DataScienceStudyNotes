{
 "cells": [
  {
   "cell_type": "code",
   "execution_count": null,
   "metadata": {},
   "outputs": [],
   "source": []
  },
  {
   "cell_type": "markdown",
   "metadata": {},
   "source": [
    "## 获取可转债上市数据"
   ]
  },
  {
   "cell_type": "code",
   "execution_count": 31,
   "metadata": {},
   "outputs": [],
   "source": [
    "import datetime\n",
    "import pandas as pd\n",
    "import akshare as ak\n",
    "\n",
    "\n",
    "COLUMNS = (\n",
    "    '债券代码',\n",
    "    '债券简称',\n",
    "    '公告日期',\n",
    "    '发行起始日',\n",
    "    '发行终止日',\n",
    "    '计划发行总量',\n",
    "    '实际发行总量',\n",
    "    '发行面值',\n",
    "    '发行价格',\n",
    "    '发行方式',\n",
    "    '发行对象',\n",
    "    '发行范围',\n",
    "    '承销方式',\n",
    "    '募资用途说明',\n",
    "    '初始转股价格',\n",
    "    '转股开始日期',\n",
    "    '转股终止日期',\n",
    "    '网上申购日期',\n",
    "    '网上申购代码',\n",
    "    '网上申购简称',\n",
    "    '网上申购数量上限',\n",
    "    '网上申购数量下限',\n",
    "    '网上申购单位',\n",
    "    '网上申购中签结果公告日及退款日',\n",
    "    '优先申购日',\n",
    "    '配售价格',\n",
    "    '债权登记日',\n",
    "    '优先申购缴款日',\n",
    "    '转股代码',\n",
    "    '交易市场',\n",
    "    '债券名称',\n",
    ")\n",
    "\n",
    "\n",
    "# 获取当天上市可转债信息\n",
    "def get_bond_cov_issue_cninfo(start_date=None, end_date=None):\n",
    "    now_date = datetime.datetime.now().date()\n",
    "    if not start_date:\n",
    "        start_date = (now_date - datetime.timedelta(days=1)).strftime('%Y%m%d')\n",
    "    if not end_date:\n",
    "        end_date = now_date.strftime('%Y%m%d')\n",
    "\n",
    "    try:\n",
    "        bond_cov_issue_cninfo_df = ak.bond_cov_issue_cninfo(start_date, end_date)\n",
    "    except Exception as e:\n",
    "        bond_cov_issue_cninfo_df = pd.DataFrame(columns=COLUMNS)\n",
    "\n",
    "    return bond_cov_issue_cninfo_df"
   ]
  },
  {
   "cell_type": "code",
   "execution_count": 53,
   "metadata": {},
   "outputs": [
    {
     "data": {
      "text/html": [
       "<div>\n",
       "<style scoped>\n",
       "    .dataframe tbody tr th:only-of-type {\n",
       "        vertical-align: middle;\n",
       "    }\n",
       "\n",
       "    .dataframe tbody tr th {\n",
       "        vertical-align: top;\n",
       "    }\n",
       "\n",
       "    .dataframe thead th {\n",
       "        text-align: right;\n",
       "    }\n",
       "</style>\n",
       "<table border=\"1\" class=\"dataframe\">\n",
       "  <thead>\n",
       "    <tr style=\"text-align: right;\">\n",
       "      <th></th>\n",
       "      <th>债券代码</th>\n",
       "      <th>债券简称</th>\n",
       "      <th>公告日期</th>\n",
       "      <th>发行起始日</th>\n",
       "      <th>发行终止日</th>\n",
       "      <th>计划发行总量</th>\n",
       "      <th>实际发行总量</th>\n",
       "      <th>发行面值</th>\n",
       "      <th>发行价格</th>\n",
       "      <th>发行方式</th>\n",
       "      <th>...</th>\n",
       "      <th>网上申购数量下限</th>\n",
       "      <th>网上申购单位</th>\n",
       "      <th>网上申购中签结果公告日及退款日</th>\n",
       "      <th>优先申购日</th>\n",
       "      <th>配售价格</th>\n",
       "      <th>债权登记日</th>\n",
       "      <th>优先申购缴款日</th>\n",
       "      <th>转股代码</th>\n",
       "      <th>交易市场</th>\n",
       "      <th>债券名称</th>\n",
       "    </tr>\n",
       "  </thead>\n",
       "  <tbody>\n",
       "    <tr>\n",
       "      <th>0</th>\n",
       "      <td>111007</td>\n",
       "      <td>永和转债</td>\n",
       "      <td>2022-09-30</td>\n",
       "      <td>2022-10-11</td>\n",
       "      <td>2022-10-11</td>\n",
       "      <td>80000.0</td>\n",
       "      <td>NaN</td>\n",
       "      <td>100</td>\n",
       "      <td>100.0</td>\n",
       "      <td>网上网下优先配售,交易所系统网上向社会公众投资者发行</td>\n",
       "      <td>...</td>\n",
       "      <td>0.1</td>\n",
       "      <td>0.1</td>\n",
       "      <td>2022-10-13</td>\n",
       "      <td>2022-10-11</td>\n",
       "      <td>100.0</td>\n",
       "      <td>2028-10-10</td>\n",
       "      <td>2022-10-11</td>\n",
       "      <td>605020</td>\n",
       "      <td>上交所</td>\n",
       "      <td>浙江永和制冷股份有限公司公开发行可转换公司债券</td>\n",
       "    </tr>\n",
       "    <tr>\n",
       "      <th>1</th>\n",
       "      <td>118022</td>\n",
       "      <td>锂科转债</td>\n",
       "      <td>2022-09-30</td>\n",
       "      <td>2022-10-11</td>\n",
       "      <td>2022-10-11</td>\n",
       "      <td>325000.0</td>\n",
       "      <td>NaN</td>\n",
       "      <td>100</td>\n",
       "      <td>100.0</td>\n",
       "      <td>网上优先配售,交易所系统网上向社会公众投资者发行</td>\n",
       "      <td>...</td>\n",
       "      <td>0.1</td>\n",
       "      <td>0.1</td>\n",
       "      <td>2022-10-13</td>\n",
       "      <td>2022-10-11</td>\n",
       "      <td>100.0</td>\n",
       "      <td>2028-10-10</td>\n",
       "      <td>2022-10-11</td>\n",
       "      <td>688779</td>\n",
       "      <td>上交所</td>\n",
       "      <td>湖南长远锂科股份有限公司向不特定对象发行可转换公司债券</td>\n",
       "    </tr>\n",
       "    <tr>\n",
       "      <th>2</th>\n",
       "      <td>123161</td>\n",
       "      <td>强联转债</td>\n",
       "      <td>2022-09-30</td>\n",
       "      <td>2022-10-11</td>\n",
       "      <td>2022-10-11</td>\n",
       "      <td>121000.0</td>\n",
       "      <td>121000.0</td>\n",
       "      <td>100</td>\n",
       "      <td>100.0</td>\n",
       "      <td>网上优先配售,交易所系统网上向社会公众投资者发行</td>\n",
       "      <td>...</td>\n",
       "      <td>0.1</td>\n",
       "      <td>0.1</td>\n",
       "      <td>NaT</td>\n",
       "      <td>2022-10-11</td>\n",
       "      <td>100.0</td>\n",
       "      <td>2028-10-10</td>\n",
       "      <td>2022-10-11</td>\n",
       "      <td>300850</td>\n",
       "      <td>深交所</td>\n",
       "      <td>洛阳新强联回转支承股份有限公司向不特定对象发行可转换公司债券</td>\n",
       "    </tr>\n",
       "  </tbody>\n",
       "</table>\n",
       "<p>3 rows × 31 columns</p>\n",
       "</div>"
      ],
      "text/plain": [
       "     债券代码  债券简称        公告日期       发行起始日       发行终止日    计划发行总量    实际发行总量  发行面值  \\\n",
       "0  111007  永和转债  2022-09-30  2022-10-11  2022-10-11   80000.0       NaN   100   \n",
       "1  118022  锂科转债  2022-09-30  2022-10-11  2022-10-11  325000.0       NaN   100   \n",
       "2  123161  强联转债  2022-09-30  2022-10-11  2022-10-11  121000.0  121000.0   100   \n",
       "\n",
       "    发行价格                        发行方式  ... 网上申购数量下限 网上申购单位 网上申购中签结果公告日及退款日  \\\n",
       "0  100.0  网上网下优先配售,交易所系统网上向社会公众投资者发行  ...      0.1    0.1      2022-10-13   \n",
       "1  100.0    网上优先配售,交易所系统网上向社会公众投资者发行  ...      0.1    0.1      2022-10-13   \n",
       "2  100.0    网上优先配售,交易所系统网上向社会公众投资者发行  ...      0.1    0.1             NaT   \n",
       "\n",
       "        优先申购日   配售价格       债权登记日     优先申购缴款日    转股代码 交易市场  \\\n",
       "0  2022-10-11  100.0  2028-10-10  2022-10-11  605020  上交所   \n",
       "1  2022-10-11  100.0  2028-10-10  2022-10-11  688779  上交所   \n",
       "2  2022-10-11  100.0  2028-10-10  2022-10-11  300850  深交所   \n",
       "\n",
       "                             债券名称  \n",
       "0         浙江永和制冷股份有限公司公开发行可转换公司债券  \n",
       "1     湖南长远锂科股份有限公司向不特定对象发行可转换公司债券  \n",
       "2  洛阳新强联回转支承股份有限公司向不特定对象发行可转换公司债券  \n",
       "\n",
       "[3 rows x 31 columns]"
      ]
     },
     "execution_count": 53,
     "metadata": {},
     "output_type": "execute_result"
    }
   ],
   "source": [
    "bond_cov_issue_cninfo_df = get_bond_cov_issue_cninfo(start_date='20221011', end_date='20221012')\n",
    "bond_cov_issue_cninfo_df"
   ]
  },
  {
   "cell_type": "code",
   "execution_count": null,
   "metadata": {},
   "outputs": [],
   "source": []
  },
  {
   "cell_type": "markdown",
   "metadata": {},
   "source": [
    "## 微信提醒"
   ]
  },
  {
   "cell_type": "code",
   "execution_count": 54,
   "metadata": {},
   "outputs": [],
   "source": [
    "import requests\n",
    "\n",
    "\n",
    "def send_wechat(msg):\n",
    "    token = '3558e0a2eae84071aff8fade00959783'  # 前边复制到那个token\n",
    "    title = '可转债打新提醒小助手'\n",
    "    content = msg\n",
    "    template = 'html'\n",
    "    topic = '1'\n",
    "    url = f\"http://www.pushplus.plus/send?token={token}&title={title}&content={content}&template={template}&topic={topic}\"\n",
    "    res = requests.get(url=url)\n",
    "    return res"
   ]
  },
  {
   "cell_type": "code",
   "execution_count": null,
   "metadata": {},
   "outputs": [],
   "source": []
  },
  {
   "cell_type": "markdown",
   "metadata": {},
   "source": [
    "## 信息发送"
   ]
  },
  {
   "cell_type": "code",
   "execution_count": 55,
   "metadata": {},
   "outputs": [],
   "source": [
    "res = send_wechat(bond_cov_issue_cninfo_df[['债券代码', '债券简称', '交易市场']].to_html())"
   ]
  },
  {
   "cell_type": "code",
   "execution_count": 56,
   "metadata": {},
   "outputs": [
    {
     "data": {
      "text/plain": [
       "<Response [200]>"
      ]
     },
     "execution_count": 56,
     "metadata": {},
     "output_type": "execute_result"
    }
   ],
   "source": [
    "res"
   ]
  },
  {
   "cell_type": "code",
   "execution_count": null,
   "metadata": {},
   "outputs": [],
   "source": []
  },
  {
   "cell_type": "code",
   "execution_count": null,
   "metadata": {},
   "outputs": [],
   "source": []
  },
  {
   "cell_type": "code",
   "execution_count": null,
   "metadata": {},
   "outputs": [],
   "source": []
  }
 ],
 "metadata": {
  "kernelspec": {
   "display_name": "Python 3.7.4 ('base')",
   "language": "python",
   "name": "python3"
  },
  "language_info": {
   "codemirror_mode": {
    "name": "ipython",
    "version": 3
   },
   "file_extension": ".py",
   "mimetype": "text/x-python",
   "name": "python",
   "nbconvert_exporter": "python",
   "pygments_lexer": "ipython3",
   "version": "3.7.4"
  },
  "orig_nbformat": 4,
  "vscode": {
   "interpreter": {
    "hash": "8c3cb1439b48e6ef114929de33211eafda20be62493369cd313c9c2b7c59c15d"
   }
  }
 },
 "nbformat": 4,
 "nbformat_minor": 2
}
