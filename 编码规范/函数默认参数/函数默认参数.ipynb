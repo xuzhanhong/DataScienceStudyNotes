{
 "cells": [
  {
   "cell_type": "code",
   "execution_count": 6,
   "metadata": {},
   "outputs": [
    {
     "name": "stdout",
     "output_type": "stream",
     "text": [
      "['1']\n",
      "['1', '2']\n",
      "['3']\n",
      "['1', '2', '3']\n"
     ]
    }
   ],
   "source": [
    "# 【反例】\n",
    "def f(a, lst=[]):\n",
    "    lst.append(a)\n",
    "    return lst\n",
    "\n",
    "print(f('1'))  # 期望 -> ['1']\n",
    "print(f('2'))  # 期望 -> ['2']\n",
    "print(f('3', []))  # 期望 -> ['3']\n",
    "print(f('3', ['1', '2']))  # 期望 -> ['1', '2', '3']"
   ]
  },
  {
   "cell_type": "code",
   "execution_count": 7,
   "metadata": {},
   "outputs": [
    {
     "name": "stdout",
     "output_type": "stream",
     "text": [
      "['1']\n",
      "['2']\n",
      "['3']\n",
      "['1', '2', '3']\n"
     ]
    }
   ],
   "source": [
    "# 【正例】写法一\n",
    "def f(a, lst=None):\n",
    "    if not lst:\n",
    "        lst = []\n",
    "    lst.append(a)\n",
    "    return lst\n",
    "\n",
    "print(f('1'))  # 期望 -> ['1']\n",
    "print(f('2'))  # 期望 -> ['2']\n",
    "print(f('3', []))  # 期望 -> ['3']\n",
    "print(f('3', ['1', '2']))  # 期望 -> ['1', '2', '3']"
   ]
  },
  {
   "cell_type": "code",
   "execution_count": 9,
   "metadata": {},
   "outputs": [
    {
     "name": "stdout",
     "output_type": "stream",
     "text": [
      "['1']\n",
      "['2']\n",
      "['3']\n",
      "['1', '2', '3']\n"
     ]
    }
   ],
   "source": [
    "# 【正例】写法二\n",
    "def f(a, lst=None):\n",
    "    lst = lst or []\n",
    "    lst.append(a)\n",
    "    return lst\n",
    "\n",
    "print(f('1'))  # 期望 -> ['1']\n",
    "print(f('2'))  # 期望 -> ['2']\n",
    "print(f('3', []))  # 期望 -> ['3']\n",
    "print(f('3', ['1', '2']))  # 期望 -> ['1', '2', '3']"
   ]
  },
  {
   "cell_type": "code",
   "execution_count": null,
   "metadata": {},
   "outputs": [],
   "source": []
  }
 ],
 "metadata": {
  "kernelspec": {
   "display_name": "Python 3.7.4 ('base')",
   "language": "python",
   "name": "python3"
  },
  "language_info": {
   "codemirror_mode": {
    "name": "ipython",
    "version": 3
   },
   "file_extension": ".py",
   "mimetype": "text/x-python",
   "name": "python",
   "nbconvert_exporter": "python",
   "pygments_lexer": "ipython3",
   "version": "3.7.4"
  },
  "orig_nbformat": 4,
  "vscode": {
   "interpreter": {
    "hash": "8c3cb1439b48e6ef114929de33211eafda20be62493369cd313c9c2b7c59c15d"
   }
  }
 },
 "nbformat": 4,
 "nbformat_minor": 2
}
