{
 "cells": [
  {
   "cell_type": "markdown",
   "metadata": {},
   "source": [
    "# 1.直接访问表"
   ]
  },
  {
   "cell_type": "markdown",
   "metadata": {},
   "source": [
    "例子：确定每个月的天数"
   ]
  },
  {
   "cell_type": "code",
   "execution_count": 1,
   "metadata": {},
   "outputs": [],
   "source": [
    "# 确定每个月天数的笨拙写法\n",
    "def days_per_month(month):\n",
    "    if month == 1:\n",
    "        days = 31\n",
    "    elif month == 2:\n",
    "        days = 28\n",
    "    elif month == 3:\n",
    "        days = 31\n",
    "    elif month == 4:\n",
    "        days = 30\n",
    "    elif month == 5:\n",
    "        days = 31\n",
    "    elif month == 6:\n",
    "        days = 30\n",
    "    elif month == 7:\n",
    "        days = 31\n",
    "    elif month == 8:\n",
    "        days = 31\n",
    "    elif month == 9:\n",
    "        days = 30\n",
    "    elif month == 10:\n",
    "        days = 31\n",
    "    elif month == 11:\n",
    "        days = 30\n",
    "    elif month == 12:\n",
    "        days = 31\n",
    "    return days"
   ]
  },
  {
   "cell_type": "code",
   "execution_count": 2,
   "metadata": {},
   "outputs": [
    {
     "data": {
      "text/plain": [
       "28"
      ]
     },
     "execution_count": 2,
     "metadata": {},
     "output_type": "execute_result"
    }
   ],
   "source": [
    "days_per_month(2)"
   ]
  },
  {
   "cell_type": "code",
   "execution_count": 3,
   "metadata": {},
   "outputs": [],
   "source": [
    "# 确定每个月天数的优雅写法\n",
    "def days_per_month(month):\n",
    "    DAYS_PER_MONTH_TABLE = (31, 28, 31, 30, 31, 30, 31, 31, 30, 31, 30, 31)\n",
    "    return DAYS_PER_MONTH_TABLE[month-1]"
   ]
  },
  {
   "cell_type": "code",
   "execution_count": 4,
   "metadata": {},
   "outputs": [
    {
     "data": {
      "text/plain": [
       "28"
      ]
     },
     "execution_count": 4,
     "metadata": {},
     "output_type": "execute_result"
    }
   ],
   "source": [
    "days_per_month(2)"
   ]
  },
  {
   "cell_type": "markdown",
   "metadata": {},
   "source": [
    "# 2.索引访问表"
   ]
  },
  {
   "cell_type": "code",
   "execution_count": 41,
   "metadata": {},
   "outputs": [],
   "source": [
    "# 索引访问表：通过索引获取对应数据\n",
    "def get_store_item(item_id):\n",
    "    ITEM_TABLE = {\n",
    "        '0000': 'item0',\n",
    "        '0001': 'item1',\n",
    "        '0099': 'item99',\n",
    "        # ...\n",
    "    }\n",
    "    return ITEM_TABLE.get(item_id)\n"
   ]
  },
  {
   "cell_type": "code",
   "execution_count": 42,
   "metadata": {},
   "outputs": [
    {
     "data": {
      "text/plain": [
       "'item99'"
      ]
     },
     "execution_count": 42,
     "metadata": {},
     "output_type": "execute_result"
    }
   ],
   "source": [
    "get_store_item('0099')"
   ]
  },
  {
   "cell_type": "markdown",
   "metadata": {},
   "source": [
    "# 3.阶梯访问表"
   ]
  },
  {
   "cell_type": "code",
   "execution_count": 16,
   "metadata": {},
   "outputs": [],
   "source": [
    "# 通过元组实现阶梯访问表\n",
    "def get_score_grage(score):\n",
    "    RANGE_LIMIT_TABLE = (50, 65, 75, 90, 100)  # 每一组分数的上限\n",
    "    GRADE_TABLE = (\"F\", \"D\", \"C\", \"B\", \"A\")  # 每一组分数对应\n",
    "    grade = ''\n",
    "    for i, max_score in enumerate(RANGE_LIMIT_TABLE):\n",
    "        if score > max_score:\n",
    "            continue\n",
    "        else:\n",
    "            grade = GRADE_TABLE[i]\n",
    "            break\n",
    "    return grade"
   ]
  },
  {
   "cell_type": "code",
   "execution_count": 17,
   "metadata": {},
   "outputs": [
    {
     "data": {
      "text/plain": [
       "'C'"
      ]
     },
     "execution_count": 17,
     "metadata": {},
     "output_type": "execute_result"
    }
   ],
   "source": [
    "score = 66\n",
    "get_score_grage(score)"
   ]
  },
  {
   "cell_type": "code",
   "execution_count": 20,
   "metadata": {},
   "outputs": [],
   "source": [
    "# 通过字典实现阶梯访问表\n",
    "def get_score_grage(score):\n",
    "    # 分数上线跟等级的映射关系\n",
    "    SCORE_GRADE_TABLE = {\n",
    "        50: \"F\", \n",
    "        65: \"D\", \n",
    "        75: \"C\", \n",
    "        90: \"B\", \n",
    "        100: \"A\"\n",
    "    }\n",
    "    grade = ''\n",
    "    for max_score, score_grade in SCORE_GRADE_TABLE.items():\n",
    "        if score > max_score:\n",
    "            continue\n",
    "        else:\n",
    "            grade = score_grade\n",
    "            break\n",
    "    return grade"
   ]
  },
  {
   "cell_type": "code",
   "execution_count": 21,
   "metadata": {},
   "outputs": [
    {
     "data": {
      "text/plain": [
       "'C'"
      ]
     },
     "execution_count": 21,
     "metadata": {},
     "output_type": "execute_result"
    }
   ],
   "source": [
    "score = 66\n",
    "get_score_grage(score)"
   ]
  },
  {
   "cell_type": "code",
   "execution_count": null,
   "metadata": {},
   "outputs": [],
   "source": []
  }
 ],
 "metadata": {
  "kernelspec": {
   "display_name": "Python 3.7.4 ('base')",
   "language": "python",
   "name": "python3"
  },
  "language_info": {
   "codemirror_mode": {
    "name": "ipython",
    "version": 3
   },
   "file_extension": ".py",
   "mimetype": "text/x-python",
   "name": "python",
   "nbconvert_exporter": "python",
   "pygments_lexer": "ipython3",
   "version": "3.7.4"
  },
  "orig_nbformat": 4,
  "vscode": {
   "interpreter": {
    "hash": "8c3cb1439b48e6ef114929de33211eafda20be62493369cd313c9c2b7c59c15d"
   }
  }
 },
 "nbformat": 4,
 "nbformat_minor": 2
}
