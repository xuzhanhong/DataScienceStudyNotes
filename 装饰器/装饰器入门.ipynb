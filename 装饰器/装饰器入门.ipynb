{
 "cells": [
  {
   "cell_type": "code",
   "execution_count": 5,
   "metadata": {},
   "outputs": [],
   "source": [
    "from dis import dis\n",
    "import time\n",
    "import timeit"
   ]
  },
  {
   "cell_type": "code",
   "execution_count": 37,
   "metadata": {},
   "outputs": [],
   "source": [
    "def time_consuming_function():\n",
    "    \"\"\"一个比较耗时的函数\"\"\"\n",
    "    # do something\n",
    "    print('running time consuming function')"
   ]
  },
  {
   "cell_type": "code",
   "execution_count": 43,
   "metadata": {},
   "outputs": [
    {
     "name": "stdout",
     "output_type": "stream",
     "text": [
      "running time consuming function\n",
      "Time: 5.412101745605469e-05\n"
     ]
    }
   ],
   "source": [
    "# 统计函数的运行时间\n",
    "def time_consuming_function():\n",
    "    start = time.time()\n",
    "    # do something\n",
    "    print('running time consuming function')\n",
    "    end = time.time()\n",
    "    print(f'Time: {end - start}')\n",
    "\n",
    "time_consuming_function()"
   ]
  },
  {
   "cell_type": "code",
   "execution_count": 44,
   "metadata": {},
   "outputs": [],
   "source": [
    "def my_timeit(func):\n",
    "    \"\"\"统计函数的运行时间\"\"\"\n",
    "    start = time.time()\n",
    "    func()\n",
    "    end = time.time()\n",
    "    print(f'Time: {end - start}')"
   ]
  },
  {
   "cell_type": "code",
   "execution_count": 45,
   "metadata": {},
   "outputs": [],
   "source": [
    "def time_consuming_function():\n",
    "    \"\"\"一个比较耗时的函数\"\"\"\n",
    "    # do something\n",
    "    print('running time consuming function')"
   ]
  },
  {
   "cell_type": "code",
   "execution_count": 46,
   "metadata": {},
   "outputs": [
    {
     "name": "stdout",
     "output_type": "stream",
     "text": [
      "running time consuming function\n",
      "Time: 5.507469177246094e-05\n"
     ]
    }
   ],
   "source": [
    "my_timeit(time_consuming_function)"
   ]
  },
  {
   "cell_type": "code",
   "execution_count": 66,
   "metadata": {},
   "outputs": [],
   "source": [
    "def my_timeit(func):\n",
    "    \"\"\" 统计函数的运行时间 \"\"\"\n",
    "    def _timeit():\n",
    "        start = time.time()\n",
    "        ret = func()\n",
    "        end = time.time()\n",
    "        print(f'Time: {end - start}')\n",
    "        return ret\n",
    "    return _timeit"
   ]
  },
  {
   "cell_type": "code",
   "execution_count": 71,
   "metadata": {},
   "outputs": [
    {
     "name": "stdout",
     "output_type": "stream",
     "text": [
      "running time consuming function\n",
      "Time: 3.790855407714844e-05\n",
      "Time: 6.103515625e-05\n"
     ]
    }
   ],
   "source": [
    "time_consuming_function = my_timeit(time_consuming_function)\n",
    "time_consuming_function()"
   ]
  },
  {
   "cell_type": "code",
   "execution_count": 68,
   "metadata": {},
   "outputs": [],
   "source": [
    "@my_timeit\n",
    "def time_consuming_function():\n",
    "    \"\"\" 一个比较耗时的函数 \"\"\"\n",
    "    # do something\n",
    "    print('running time consuming function')"
   ]
  },
  {
   "cell_type": "code",
   "execution_count": 69,
   "metadata": {},
   "outputs": [
    {
     "name": "stdout",
     "output_type": "stream",
     "text": [
      "running time consuming function\n",
      "Time: 7.224082946777344e-05\n"
     ]
    }
   ],
   "source": [
    "time_consuming_function()"
   ]
  },
  {
   "cell_type": "code",
   "execution_count": 70,
   "metadata": {},
   "outputs": [
    {
     "name": "stdout",
     "output_type": "stream",
     "text": [
      "Help on function _timeit in module __main__:\n",
      "\n",
      "_timeit()\n",
      "\n"
     ]
    }
   ],
   "source": [
    "help(time_consuming_function)"
   ]
  },
  {
   "cell_type": "code",
   "execution_count": null,
   "metadata": {},
   "outputs": [],
   "source": []
  }
 ],
 "metadata": {
  "kernelspec": {
   "display_name": "Python 3.7.4 ('base')",
   "language": "python",
   "name": "python3"
  },
  "language_info": {
   "codemirror_mode": {
    "name": "ipython",
    "version": 3
   },
   "file_extension": ".py",
   "mimetype": "text/x-python",
   "name": "python",
   "nbconvert_exporter": "python",
   "pygments_lexer": "ipython3",
   "version": "3.7.4"
  },
  "orig_nbformat": 4,
  "vscode": {
   "interpreter": {
    "hash": "8c3cb1439b48e6ef114929de33211eafda20be62493369cd313c9c2b7c59c15d"
   }
  }
 },
 "nbformat": 4,
 "nbformat_minor": 2
}
