{
 "cells": [
  {
   "cell_type": "code",
   "execution_count": null,
   "metadata": {},
   "outputs": [],
   "source": []
  },
  {
   "cell_type": "markdown",
   "metadata": {},
   "source": [
    "# 不使用卫语句"
   ]
  },
  {
   "cell_type": "code",
   "execution_count": 2,
   "metadata": {},
   "outputs": [],
   "source": [
    "def process_data(data):\n",
    "    if isinstance(data, dict):\n",
    "        if 'value1' in data and 'value2' in data:\n",
    "            value1 = data['value1']\n",
    "            value2 = data['value2']\n",
    "            if isinstance(value1, int) and isinstance(value2, int):\n",
    "                if value1 > 0 and value2 > 0:\n",
    "                    result = value1 + value2\n",
    "                    return result\n",
    "                else:\n",
    "                    raise ValueError(\"Both value1 and value2 must be greater than 0\")\n",
    "            else:\n",
    "                raise TypeError(\"value1 and value2 must be integers\")\n",
    "        else:\n",
    "            raise KeyError(\"data must contain 'value1' and 'value2'\")\n",
    "    else:\n",
    "        raise TypeError(\"Input data must be a dictionary\")"
   ]
  },
  {
   "cell_type": "code",
   "execution_count": 6,
   "metadata": {},
   "outputs": [
    {
     "data": {
      "text/plain": [
       "11"
      ]
     },
     "execution_count": 6,
     "metadata": {},
     "output_type": "execute_result"
    }
   ],
   "source": [
    "data = {\n",
    "    'value1': 1,\n",
    "    'value2': 10,\n",
    "}\n",
    "process_data(data)"
   ]
  },
  {
   "cell_type": "code",
   "execution_count": null,
   "metadata": {},
   "outputs": [],
   "source": []
  },
  {
   "cell_type": "markdown",
   "metadata": {},
   "source": [
    "# 使用卫语句"
   ]
  },
  {
   "cell_type": "code",
   "execution_count": 8,
   "metadata": {},
   "outputs": [],
   "source": [
    "def process_data(data):\n",
    "    # 卫语句：检查 data 是否为字典\n",
    "    if not isinstance(data, dict):\n",
    "        raise TypeError(\"Input data must be a dictionary\")\n",
    "    \n",
    "    # 卫语句：检查字典中是否包含必要的键\n",
    "    if 'value1' not in data or 'value2' not in data:\n",
    "        raise KeyError(\"Data must contain 'value1' and 'value2'\")\n",
    "    \n",
    "    value1 = data['value1']\n",
    "    value2 = data['value2']\n",
    "    \n",
    "    # 卫语句：检查值是否为整数\n",
    "    if not isinstance(value1, int) or not isinstance(value2, int):\n",
    "        raise TypeError(\"Value1 and value2 must be integers\")\n",
    "    \n",
    "    # 卫语句：检查值是否大于 0\n",
    "    if value1 <= 0 or value2 <= 0:\n",
    "        raise ValueError(\"Both value1 and value2 must be greater than 0\")\n",
    "    \n",
    "    # 主逻辑\n",
    "    result = value1 + value2\n",
    "    return result"
   ]
  },
  {
   "cell_type": "code",
   "execution_count": 9,
   "metadata": {},
   "outputs": [
    {
     "data": {
      "text/plain": [
       "11"
      ]
     },
     "execution_count": 9,
     "metadata": {},
     "output_type": "execute_result"
    }
   ],
   "source": [
    "data = {\n",
    "    'value1': 1,\n",
    "    'value2': 10,\n",
    "}\n",
    "process_data(data)"
   ]
  },
  {
   "cell_type": "code",
   "execution_count": null,
   "metadata": {},
   "outputs": [],
   "source": []
  }
 ],
 "metadata": {
  "kernelspec": {
   "display_name": "Python 3",
   "language": "python",
   "name": "python3"
  },
  "language_info": {
   "codemirror_mode": {
    "name": "ipython",
    "version": 3
   },
   "file_extension": ".py",
   "mimetype": "text/x-python",
   "name": "python",
   "nbconvert_exporter": "python",
   "pygments_lexer": "ipython3",
   "version": "3.9.4"
  }
 },
 "nbformat": 4,
 "nbformat_minor": 2
}
